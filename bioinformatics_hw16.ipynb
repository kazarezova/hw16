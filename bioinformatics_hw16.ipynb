{
 "cells": [
  {
   "cell_type": "markdown",
   "metadata": {},
   "source": [
    "# 3\n",
    "Обучить линейный SVM для задачи бинарной классификации luminal A vs luminal B на 50 генах. Отобрать 5 наиболее важных генов (наибольшие модули коэффициентов), обучить на них SVM. Как изменится качество классификации (TPR, TNR, ROC AUC)?"
   ]
  },
  {
   "cell_type": "code",
   "execution_count": 25,
   "metadata": {},
   "outputs": [
    {
     "name": "stdout",
     "output_type": "stream",
     "text": [
      "0.9194630872483222\n",
      "[[97  6]\n",
      " [ 6 40]]\n",
      "0.941747572815534 0.8695652173913043\n",
      "Index(['BIRC5', 'ACTR3B', 'UBE2C', 'UBE2T', 'RRM2', 'SLC39A6', 'TYMS', 'MELK',\n",
      "       'CENPF', 'PTTG1', 'MYBL2', 'BLVRA', 'CDC6', 'CDC20', 'NUF2', 'ORC6',\n",
      "       'KRT5', 'CCNE1', 'MLPH', 'ANLN', 'EXO1', 'CDH3', 'CEP55', 'CCNB1',\n",
      "       'FOXA1', 'PGR', 'GPR160', 'KIF2C', 'MKI67', 'ESR1', 'TMEM45B', 'GRB7',\n",
      "       'NAT1', 'ERBB2', 'MMP11', 'MYC', 'EGFR', 'MAPT', 'NDC80', 'KRT14',\n",
      "       'SFRP1', 'PHGDH', 'FGFR4', 'BCL2', 'MDM2', 'FOXC1', 'CXXC5', 'KRT17',\n",
      "       'MIA', 'BAG1'],\n",
      "      dtype='object')\n"
     ]
    },
    {
     "data": {
      "image/png": "[encoded data removed]",
      "text/plain": [
       "<Figure size 432x288 with 1 Axes>"
      ]
     },
     "metadata": {
      "needs_background": "light"
     },
     "output_type": "display_data"
    }
   ],
   "source": [
    "'''\n",
    "import pandas as pd\n",
    "import numpy as np\n",
    "\n",
    "from sklearn.svm import SVC\n",
    "from sklearn.metrics import accuracy_score\n",
    "from sklearn.model_selection import train_test_split\n",
    "from sklearn.metrics import confusion_matrix, plot_roc_curve\n",
    "\n",
    "import seaborn as sns\n",
    "import matplotlib.pyplot as plt\n",
    "'''\n",
    "\n",
    "df = pd.read_csv(\"BRCA_pam50.tsv\", sep=\"\\t\", index_col=0)\n",
    "df = df.loc[df[\"Subtype\"].isin([\"Luminal A\", \"Luminal B\"])]\n",
    "X = df.iloc[:, :-1].to_numpy()\n",
    "y = df.loc[:,\"Subtype\"].to_numpy()\n",
    "\n",
    "X_train, X_test, y_train, y_test = train_test_split(X, y, stratify=y, random_state=17)\n",
    "model = SVC(kernel=\"linear\")\n",
    "\n",
    "model.fit(X_train, y_train)\n",
    "y_pred = model.predict(X_test)\n",
    "\n",
    "print(accuracy_score(y_test, y_pred))\n",
    "M = confusion_matrix(y_test, y_pred)\n",
    "print(M)\n",
    "TPR = M[0, 0] / (M[0, 0] + M[0, 1])\n",
    "TNR = M[1, 1] / (M[1, 0] + M[1, 1])\n",
    "print(TPR, TNR)\n",
    "\n",
    "plot_roc_curve(model, X_test, y_test)\n",
    "plt.plot(1 - TPR, TNR, \"x\", c=\"red\")\n",
    "\n",
    "df=df.T.iloc[:-1,:]\n",
    "df['coef']=model.coef_[0]\n",
    "df=df.sort_values('coef',ascending=False)\n",
    "print(df.index)"
   ]
  },
  {
   "cell_type": "markdown",
   "metadata": {},
   "source": [
    "BIRC5    1.304432  \n",
    "ACTR3B   1.033695  \n",
    "UBE2C    0.919158  \n",
    "UBE2T    0.676708  \n",
    "RRM2     0.603184 "
   ]
  },
  {
   "cell_type": "code",
   "execution_count": 31,
   "metadata": {},
   "outputs": [
    {
     "name": "stdout",
     "output_type": "stream",
     "text": [
      "0.8389261744966443\n",
      "[[94  9]\n",
      " [15 31]]\n",
      "0.912621359223301 0.6739130434782609\n"
     ]
    },
    {
     "data": {
      "text/plain": [
       "[<matplotlib.lines.Line2D at 0x195e74634c8>]"
      ]
     },
     "execution_count": 31,
     "metadata": {},
     "output_type": "execute_result"
    },
    {
     "data": {
      "image/png": "[encoded data removed]",
      "text/plain": [
       "<Figure size 432x288 with 1 Axes>"
      ]
     },
     "metadata": {
      "needs_background": "light"
     },
     "output_type": "display_data"
    }
   ],
   "source": [
    "'''\n",
    "import pandas as pd\n",
    "import numpy as np\n",
    "\n",
    "from sklearn.svm import SVC\n",
    "from sklearn.metrics import accuracy_score\n",
    "from sklearn.model_selection import train_test_split\n",
    "from sklearn.metrics import confusion_matrix, plot_roc_curve\n",
    "\n",
    "import seaborn as sns\n",
    "import matplotlib.pyplot as plt\n",
    "'''\n",
    "\n",
    "df = pd.read_csv(\"BRCA_pam50.tsv\", sep=\"\\t\", index_col=0)\n",
    "df = df.loc[df[\"Subtype\"].isin([\"Luminal A\", \"Luminal B\"]),['BIRC5','ACTR3B','UBE2C','UBE2T','RRM2','Subtype']]\n",
    "X = df.iloc[:, :-1].to_numpy()\n",
    "y = df.loc[:,\"Subtype\"].to_numpy()\n",
    "\n",
    "X_train, X_test, y_train, y_test = train_test_split(X, y, stratify=y, random_state=17)\n",
    "model = SVC(kernel=\"linear\")\n",
    "\n",
    "model.fit(X_train, y_train)\n",
    "y_pred = model.predict(X_test)\n",
    "\n",
    "print(accuracy_score(y_test, y_pred))\n",
    "M = confusion_matrix(y_test, y_pred)\n",
    "print(M)\n",
    "TPR = M[0, 0] / (M[0, 0] + M[0, 1])\n",
    "TNR = M[1, 1] / (M[1, 0] + M[1, 1])\n",
    "print(TPR, TNR)\n",
    "\n",
    "plot_roc_curve(model, X_test, y_test)\n",
    "plt.plot(1 - TPR, TNR, \"x\", c=\"red\")"
   ]
  },
  {
   "cell_type": "markdown",
   "metadata": {},
   "source": [
    "# 4\n",
    "Обучить линейный SVM для многоклассовой задачи (BRCApam50), используя: 1) 50 генов; 2) первые 2 главные компоненты. Сравнить качество классификации."
   ]
  },
  {
   "cell_type": "code",
   "execution_count": 48,
   "metadata": {},
   "outputs": [
    {
     "name": "stdout",
     "output_type": "stream",
     "text": [
      "0.9126637554585153\n",
      "[[15  0  0  1  0  0]\n",
      " [ 0 25  0  0  0  0]\n",
      " [ 0  0 98  5  0  0]\n",
      " [ 0  0  9 37  0  0]\n",
      " [ 0  1  3  0  0  1]\n",
      " [ 0  0  0  0  0 34]]\n"
     ]
    }
   ],
   "source": [
    "'''\n",
    "import pandas as pd\n",
    "import numpy as np\n",
    "\n",
    "from sklearn.svm import SVC\n",
    "from sklearn.metrics import accuracy_score\n",
    "from sklearn.model_selection import train_test_split\n",
    "from sklearn.metrics import confusion_matrix, plot_roc_curve\n",
    "\n",
    "import seaborn as sns\n",
    "import matplotlib.pyplot as plt\n",
    "'''\n",
    "\n",
    "df = pd.read_csv(\"BRCA_pam50.tsv\", sep=\"\\t\", index_col=0)\n",
    "X = df.iloc[:, :-1].to_numpy()\n",
    "y = df.loc[:,\"Subtype\"].to_numpy()\n",
    "\n",
    "X_train, X_test, y_train, y_test = train_test_split(X, y, stratify=y, random_state=17)\n",
    "model = SVC(kernel=\"linear\")\n",
    "\n",
    "model.fit(X_train, y_train)\n",
    "y_pred = model.predict(X_test)\n",
    "\n",
    "print(accuracy_score(y_test, y_pred))\n",
    "M = confusion_matrix(y_test, y_pred)\n",
    "print(M)"
   ]
  },
  {
   "cell_type": "code",
   "execution_count": 54,
   "metadata": {},
   "outputs": [
    {
     "name": "stdout",
     "output_type": "stream",
     "text": [
      "0.8253275109170306\n",
      "[[ 8  0  0  8  0  0]\n",
      " [ 0 20  4  0  1  0]\n",
      " [ 1  0 96  6  0  0]\n",
      " [ 1  0 14 31  0  0]\n",
      " [ 1  0  3  0  1  0]\n",
      " [ 1  0  0  0  0 33]]\n"
     ]
    }
   ],
   "source": [
    "'''\n",
    "import pandas as pd\n",
    "import numpy as np\n",
    "\n",
    "from sklearn.svm import SVC\n",
    "from sklearn.metrics import accuracy_score\n",
    "from sklearn.model_selection import train_test_split\n",
    "from sklearn.metrics import confusion_matrix, plot_roc_curve\n",
    "\n",
    "import seaborn as sns\n",
    "import matplotlib.pyplot as plt\n",
    "'''\n",
    "from sklearn.decomposition import PCA\n",
    "\n",
    "df = pd.read_csv(\"BRCA_pam50.tsv\", sep=\"\\t\", index_col=0)\n",
    "X = df.iloc[:, :-1].to_numpy()\n",
    "y = df.loc[:,\"Subtype\"].to_numpy()\n",
    "\n",
    "pca = PCA(n_components=2)\n",
    "X = pca.fit_transform(X)\n",
    "\n",
    "X_train, X_test, y_train, y_test = train_test_split(X, y, stratify=y, random_state=17)\n",
    "model = SVC(kernel=\"linear\")\n",
    "\n",
    "model.fit(X_train, y_train)\n",
    "y_pred = model.predict(X_test)\n",
    "\n",
    "print(accuracy_score(y_test, y_pred))\n",
    "M = confusion_matrix(y_test, y_pred)\n",
    "print(M)"
   ]
  },
  {
   "cell_type": "markdown",
   "metadata": {},
   "source": [
    "# 5\n",
    "Сгенерировать два датасета:\n",
    "1) Две выборки из двумерного нормального распределения сцентрами в (0, 0) и (10, 10) по 10000 точек (ожидается идеальная линейная разделимость);\n",
    "2) две выборки из двумерного нормального распределения сцентрами в (0, 0) и (0, 0) по 10000 точек (ожидается полное отсутствие разделимости).\n",
    "Обучить линейный SVM в обоих случаях. Зависит ли скорость обучения SVM от качества результирующего классификатора?"
   ]
  },
  {
   "cell_type": "code",
   "execution_count": 43,
   "metadata": {},
   "outputs": [
    {
     "name": "stdout",
     "output_type": "stream",
     "text": [
      "--- 0.02898097038269043 seconds ---\n",
      "1.0\n",
      "[[2500    0]\n",
      " [   0 2500]]\n",
      "1.0 1.0\n"
     ]
    },
    {
     "data": {
      "text/plain": [
       "[<matplotlib.lines.Line2D at 0x195e979fb88>]"
      ]
     },
     "execution_count": 43,
     "metadata": {},
     "output_type": "execute_result"
    },
    {
     "data": {
      "image/png": "[encoded data removed]",
      "text/plain": [
       "<Figure size 432x288 with 1 Axes>"
      ]
     },
     "metadata": {
      "needs_background": "light"
     },
     "output_type": "display_data"
    }
   ],
   "source": [
    "'''\n",
    "import pandas as pd\n",
    "import numpy as np\n",
    "\n",
    "from sklearn.svm import SVC\n",
    "from sklearn.metrics import accuracy_score\n",
    "from sklearn.model_selection import train_test_split\n",
    "from sklearn.metrics import confusion_matrix, plot_roc_curve\n",
    "\n",
    "import seaborn as sns\n",
    "import matplotlib.pyplot as plt\n",
    "'''\n",
    "\n",
    "# TPR, TNR\n",
    "np.random.seed(17)\n",
    "\n",
    "N = 10000\n",
    "sample1_X1 = np.random.normal(loc=0, size=(N, 1))\n",
    "sample1_X2 = np.random.normal(loc=0, size=(N, 1))\n",
    "sample2_X1 = np.random.normal(loc=10, size=(N, 1))\n",
    "sample2_X2 = np.random.normal(loc=10, size=(N, 1))\n",
    "\n",
    "X1=[]\n",
    "for i in sample1_X1:\n",
    "    X1.append(float(i))\n",
    "for i in sample2_X1:\n",
    "    X1.append(float(i))\n",
    "X2=[]\n",
    "for i in sample1_X2:\n",
    "    X2.append(float(i))\n",
    "for i in sample2_X2:\n",
    "    X2.append(float(i))\n",
    "    \n",
    "X = pd.DataFrame({\n",
    "    'X1': X1,\n",
    "    'X2': X2\n",
    "})\n",
    "\n",
    "X = X.to_numpy()\n",
    "y = np.array([0]*N + [1]*N)\n",
    "\n",
    "X_train, X_test, y_train, y_test = train_test_split(X, y, stratify=y, random_state=17)\n",
    "model = SVC(kernel=\"linear\")\n",
    "\n",
    "import time\n",
    "start_time = time.time()\n",
    "\n",
    "model.fit(X_train, y_train)\n",
    "y_pred = model.predict(X_test)\n",
    "\n",
    "print(\"--- %s seconds ---\" % (time.time() - start_time))\n",
    "\n",
    "print(accuracy_score(y_test, y_pred))\n",
    "M = confusion_matrix(y_test, y_pred)\n",
    "print(M)\n",
    "TPR = M[0, 0] / (M[0, 0] + M[0, 1])\n",
    "TNR = M[1, 1] / (M[1, 0] + M[1, 1])\n",
    "print(TPR, TNR)\n",
    "\n",
    "plot_roc_curve(model, X_test, y_test)\n",
    "plt.plot(1 - TPR, TNR, \"x\", c=\"red\")"
   ]
  },
  {
   "cell_type": "code",
   "execution_count": 44,
   "metadata": {},
   "outputs": [
    {
     "name": "stdout",
     "output_type": "stream",
     "text": [
      "--- 31.09788465499878 seconds ---\n",
      "0.4934\n",
      "[[1271 1229]\n",
      " [1304 1196]]\n",
      "0.5084 0.4784\n"
     ]
    },
    {
     "data": {
      "text/plain": [
       "[<matplotlib.lines.Line2D at 0x195e75fa648>]"
      ]
     },
     "execution_count": 44,
     "metadata": {},
     "output_type": "execute_result"
    },
    {
     "data": {
      "image/png": "[encoded data removed]",
      "text/plain": [
       "<Figure size 432x288 with 1 Axes>"
      ]
     },
     "metadata": {
      "needs_background": "light"
     },
     "output_type": "display_data"
    }
   ],
   "source": [
    "'''\n",
    "import pandas as pd\n",
    "import numpy as np\n",
    "\n",
    "from sklearn.svm import SVC\n",
    "from sklearn.metrics import accuracy_score\n",
    "from sklearn.model_selection import train_test_split\n",
    "from sklearn.metrics import confusion_matrix, plot_roc_curve\n",
    "\n",
    "import seaborn as sns\n",
    "import matplotlib.pyplot as plt\n",
    "'''\n",
    "\n",
    "# TPR, TNR\n",
    "np.random.seed(17)\n",
    "\n",
    "N = 10000\n",
    "sample1_X1 = np.random.normal(loc=0, size=(N, 1))\n",
    "sample1_X2 = np.random.normal(loc=0, size=(N, 1))\n",
    "sample2_X1 = np.random.normal(loc=0, size=(N, 1))\n",
    "sample2_X2 = np.random.normal(loc=0, size=(N, 1))\n",
    "\n",
    "X1=[]\n",
    "for i in sample1_X1:\n",
    "    X1.append(float(i))\n",
    "for i in sample2_X1:\n",
    "    X1.append(float(i))\n",
    "X2=[]\n",
    "for i in sample1_X2:\n",
    "    X2.append(float(i))\n",
    "for i in sample2_X2:\n",
    "    X2.append(float(i))\n",
    "    \n",
    "X = pd.DataFrame({\n",
    "    'X1': X1,\n",
    "    'X2': X2\n",
    "})\n",
    "\n",
    "X = X.to_numpy()\n",
    "y = np.array([0]*N + [1]*N)\n",
    "\n",
    "X_train, X_test, y_train, y_test = train_test_split(X, y, stratify=y, random_state=17)\n",
    "model = SVC(kernel=\"linear\")\n",
    "\n",
    "import time\n",
    "start_time = time.time()\n",
    "\n",
    "model.fit(X_train, y_train)\n",
    "y_pred = model.predict(X_test)\n",
    "\n",
    "print(\"--- %s seconds ---\" % (time.time() - start_time))\n",
    "\n",
    "print(accuracy_score(y_test, y_pred))\n",
    "M = confusion_matrix(y_test, y_pred)\n",
    "print(M)\n",
    "TPR = M[0, 0] / (M[0, 0] + M[0, 1])\n",
    "TNR = M[1, 1] / (M[1, 0] + M[1, 1])\n",
    "print(TPR, TNR)\n",
    "\n",
    "plot_roc_curve(model, X_test, y_test)\n",
    "plt.plot(1 - TPR, TNR, \"x\", c=\"red\")"
   ]
  },
  {
   "cell_type": "code",
   "execution_count": null,
   "metadata": {},
   "outputs": [],
   "source": []
  }
 ],
 "metadata": {
  "kernelspec": {
   "display_name": "Python 3",
   "language": "python",
   "name": "python3"
  },
  "language_info": {
   "codemirror_mode": {
    "name": "ipython",
    "version": 3
   },
   "file_extension": ".py",
   "mimetype": "text/x-python",
   "name": "python",
   "nbconvert_exporter": "python",
   "pygments_lexer": "ipython3",
   "version": "3.7.4"
  }
 },
 "nbformat": 4,
 "nbformat_minor": 2
}
